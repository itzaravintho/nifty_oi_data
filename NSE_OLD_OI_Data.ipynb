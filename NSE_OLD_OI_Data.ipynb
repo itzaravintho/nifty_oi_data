{
 "cells": [
  {
   "cell_type": "code",
   "execution_count": 1,
   "metadata": {},
   "outputs": [],
   "source": [
    "import csv\n",
    "import numpy as np\n",
    "import pandas as pd"
   ]
  },
  {
   "cell_type": "code",
   "execution_count": 2,
   "metadata": {},
   "outputs": [],
   "source": [
    "def clean_ip_file(file_name,old):\n",
    "    with open(file_name) as input_file:\n",
    "            reading = csv.reader(input_file)\n",
    "            \n",
    "            #next(reading)\n",
    "            \n",
    "            with open(old,'w') as edited_file:\n",
    "                csv_writer = csv.writer(edited_file,delimiter =',')\n",
    "                \n",
    "                for line in reading:\n",
    "                    line1 = []\n",
    "                    for i in line:\n",
    "                        line1.append(i.replace(',',''))\n",
    "                    csv_writer.writerow(line1)"
   ]
  },
  {
   "cell_type": "code",
   "execution_count": 3,
   "metadata": {},
   "outputs": [
    {
     "name": "stdout",
     "output_type": "stream",
     "text": [
      "Underlying Index: NIFTY 9187.30 \n"
     ]
    }
   ],
   "source": [
    "!python Old_nse_website_oi_scrape.py"
   ]
  },
  {
   "cell_type": "code",
   "execution_count": 4,
   "metadata": {},
   "outputs": [],
   "source": [
    "pd.set_option('display.max_columns',23)\n",
    "pd.set_option('display.max_rows',153)"
   ]
  },
  {
   "cell_type": "code",
   "execution_count": 5,
   "metadata": {},
   "outputs": [],
   "source": [
    "def create_df(input_csv_file):\n",
    "    output_df = pd.read_csv(input_csv_file,na_values = '-')\n",
    "    output_df.set_index('STRIKE PRICE',inplace= True)\n",
    "    output_df.drop(columns= ['CHART','BIDQTY', 'BIDPRICE', 'ASKPRICE', 'ASKQTY','BIDQTY.1',\n",
    "       'BIDPRICE.1', 'ASKPRICE.1', 'ASKQTY.1','CHART.1'],inplace = True)\n",
    "    return output_df\n"
   ]
  },
  {
   "cell_type": "code",
   "execution_count": 6,
   "metadata": {},
   "outputs": [],
   "source": [
    "clean_ip_file('option_data.csv','new.csv')"
   ]
  },
  {
   "cell_type": "code",
   "execution_count": 7,
   "metadata": {},
   "outputs": [],
   "source": [
    "df_new = create_df('new.csv')"
   ]
  },
  {
   "cell_type": "code",
   "execution_count": 8,
   "metadata": {},
   "outputs": [
    {
     "data": {
      "text/html": [
       "<div>\n",
       "<style scoped>\n",
       "    .dataframe tbody tr th:only-of-type {\n",
       "        vertical-align: middle;\n",
       "    }\n",
       "\n",
       "    .dataframe tbody tr th {\n",
       "        vertical-align: top;\n",
       "    }\n",
       "\n",
       "    .dataframe thead th {\n",
       "        text-align: right;\n",
       "    }\n",
       "</style>\n",
       "<table border=\"1\" class=\"dataframe\">\n",
       "  <thead>\n",
       "    <tr style=\"text-align: right;\">\n",
       "      <th></th>\n",
       "      <th>OI</th>\n",
       "      <th>CHNG IN OI</th>\n",
       "      <th>VOLUME</th>\n",
       "      <th>IV</th>\n",
       "      <th>LTP</th>\n",
       "      <th>NET CHNG</th>\n",
       "      <th>NET CHNG.1</th>\n",
       "      <th>LTP.1</th>\n",
       "      <th>IV.1</th>\n",
       "      <th>VOLUME.1</th>\n",
       "      <th>CHNG IN OI.1</th>\n",
       "      <th>OI.1</th>\n",
       "    </tr>\n",
       "    <tr>\n",
       "      <th>STRIKE PRICE</th>\n",
       "      <th></th>\n",
       "      <th></th>\n",
       "      <th></th>\n",
       "      <th></th>\n",
       "      <th></th>\n",
       "      <th></th>\n",
       "      <th></th>\n",
       "      <th></th>\n",
       "      <th></th>\n",
       "      <th></th>\n",
       "      <th></th>\n",
       "      <th></th>\n",
       "    </tr>\n",
       "  </thead>\n",
       "  <tbody>\n",
       "    <tr>\n",
       "      <th>9400.0</th>\n",
       "      <td>996300.0</td>\n",
       "      <td>210750.0</td>\n",
       "      <td>329946.0</td>\n",
       "      <td>44.15</td>\n",
       "      <td>15.85</td>\n",
       "      <td>2.20</td>\n",
       "      <td>-224.85</td>\n",
       "      <td>235.85</td>\n",
       "      <td>70.99</td>\n",
       "      <td>3789.0</td>\n",
       "      <td>300.0</td>\n",
       "      <td>54450.0</td>\n",
       "    </tr>\n",
       "    <tr>\n",
       "      <th>9600.0</th>\n",
       "      <td>647175.0</td>\n",
       "      <td>90375.0</td>\n",
       "      <td>89577.0</td>\n",
       "      <td>49.92</td>\n",
       "      <td>2.40</td>\n",
       "      <td>-2.05</td>\n",
       "      <td>-237.95</td>\n",
       "      <td>418.20</td>\n",
       "      <td>87.75</td>\n",
       "      <td>176.0</td>\n",
       "      <td>-150.0</td>\n",
       "      <td>17700.0</td>\n",
       "    </tr>\n",
       "    <tr>\n",
       "      <th>9350.0</th>\n",
       "      <td>213000.0</td>\n",
       "      <td>37875.0</td>\n",
       "      <td>85585.0</td>\n",
       "      <td>43.56</td>\n",
       "      <td>24.00</td>\n",
       "      <td>5.70</td>\n",
       "      <td>-211.90</td>\n",
       "      <td>199.60</td>\n",
       "      <td>68.27</td>\n",
       "      <td>418.0</td>\n",
       "      <td>-3000.0</td>\n",
       "      <td>8400.0</td>\n",
       "    </tr>\n",
       "  </tbody>\n",
       "</table>\n",
       "</div>"
      ],
      "text/plain": [
       "                    OI  CHNG IN OI    VOLUME     IV    LTP  NET CHNG  \\\n",
       "STRIKE PRICE                                                           \n",
       "9400.0        996300.0    210750.0  329946.0  44.15  15.85      2.20   \n",
       "9600.0        647175.0     90375.0   89577.0  49.92   2.40     -2.05   \n",
       "9350.0        213000.0     37875.0   85585.0  43.56  24.00      5.70   \n",
       "\n",
       "              NET CHNG.1   LTP.1   IV.1  VOLUME.1  CHNG IN OI.1     OI.1  \n",
       "STRIKE PRICE                                                              \n",
       "9400.0           -224.85  235.85  70.99    3789.0         300.0  54450.0  \n",
       "9600.0           -237.95  418.20  87.75     176.0        -150.0  17700.0  \n",
       "9350.0           -211.90  199.60  68.27     418.0       -3000.0   8400.0  "
      ]
     },
     "execution_count": 8,
     "metadata": {},
     "output_type": "execute_result"
    }
   ],
   "source": [
    "df_new.sort_values(by=['CHNG IN OI'],ascending = False).head(3)"
   ]
  },
  {
   "cell_type": "code",
   "execution_count": 9,
   "metadata": {},
   "outputs": [
    {
     "data": {
      "text/html": [
       "<div>\n",
       "<style scoped>\n",
       "    .dataframe tbody tr th:only-of-type {\n",
       "        vertical-align: middle;\n",
       "    }\n",
       "\n",
       "    .dataframe tbody tr th {\n",
       "        vertical-align: top;\n",
       "    }\n",
       "\n",
       "    .dataframe thead th {\n",
       "        text-align: right;\n",
       "    }\n",
       "</style>\n",
       "<table border=\"1\" class=\"dataframe\">\n",
       "  <thead>\n",
       "    <tr style=\"text-align: right;\">\n",
       "      <th></th>\n",
       "      <th>OI</th>\n",
       "      <th>CHNG IN OI</th>\n",
       "      <th>VOLUME</th>\n",
       "      <th>IV</th>\n",
       "      <th>LTP</th>\n",
       "      <th>NET CHNG</th>\n",
       "      <th>NET CHNG.1</th>\n",
       "      <th>LTP.1</th>\n",
       "      <th>IV.1</th>\n",
       "      <th>VOLUME.1</th>\n",
       "      <th>CHNG IN OI.1</th>\n",
       "      <th>OI.1</th>\n",
       "    </tr>\n",
       "    <tr>\n",
       "      <th>STRIKE PRICE</th>\n",
       "      <th></th>\n",
       "      <th></th>\n",
       "      <th></th>\n",
       "      <th></th>\n",
       "      <th></th>\n",
       "      <th></th>\n",
       "      <th></th>\n",
       "      <th></th>\n",
       "      <th></th>\n",
       "      <th></th>\n",
       "      <th></th>\n",
       "      <th></th>\n",
       "    </tr>\n",
       "  </thead>\n",
       "  <tbody>\n",
       "    <tr>\n",
       "      <th>9000.0</th>\n",
       "      <td>644475.0</td>\n",
       "      <td>-287850.0</td>\n",
       "      <td>352876.0</td>\n",
       "      <td>36.91</td>\n",
       "      <td>204.0</td>\n",
       "      <td>95.25</td>\n",
       "      <td>-132.40</td>\n",
       "      <td>21.1</td>\n",
       "      <td>59.09</td>\n",
       "      <td>541127.0</td>\n",
       "      <td>932175.0</td>\n",
       "      <td>1803825.0</td>\n",
       "    </tr>\n",
       "    <tr>\n",
       "      <th>9100.0</th>\n",
       "      <td>527175.0</td>\n",
       "      <td>-648450.0</td>\n",
       "      <td>476989.0</td>\n",
       "      <td>40.83</td>\n",
       "      <td>126.6</td>\n",
       "      <td>58.15</td>\n",
       "      <td>-167.10</td>\n",
       "      <td>46.0</td>\n",
       "      <td>58.79</td>\n",
       "      <td>282878.0</td>\n",
       "      <td>655650.0</td>\n",
       "      <td>860250.0</td>\n",
       "    </tr>\n",
       "    <tr>\n",
       "      <th>8800.0</th>\n",
       "      <td>75525.0</td>\n",
       "      <td>-12825.0</td>\n",
       "      <td>18859.0</td>\n",
       "      <td>NaN</td>\n",
       "      <td>387.9</td>\n",
       "      <td>161.45</td>\n",
       "      <td>-66.05</td>\n",
       "      <td>5.7</td>\n",
       "      <td>62.48</td>\n",
       "      <td>445815.0</td>\n",
       "      <td>327000.0</td>\n",
       "      <td>1191525.0</td>\n",
       "    </tr>\n",
       "  </tbody>\n",
       "</table>\n",
       "</div>"
      ],
      "text/plain": [
       "                    OI  CHNG IN OI    VOLUME     IV    LTP  NET CHNG  \\\n",
       "STRIKE PRICE                                                           \n",
       "9000.0        644475.0   -287850.0  352876.0  36.91  204.0     95.25   \n",
       "9100.0        527175.0   -648450.0  476989.0  40.83  126.6     58.15   \n",
       "8800.0         75525.0    -12825.0   18859.0    NaN  387.9    161.45   \n",
       "\n",
       "              NET CHNG.1  LTP.1   IV.1  VOLUME.1  CHNG IN OI.1       OI.1  \n",
       "STRIKE PRICE                                                               \n",
       "9000.0           -132.40   21.1  59.09  541127.0      932175.0  1803825.0  \n",
       "9100.0           -167.10   46.0  58.79  282878.0      655650.0   860250.0  \n",
       "8800.0            -66.05    5.7  62.48  445815.0      327000.0  1191525.0  "
      ]
     },
     "execution_count": 9,
     "metadata": {},
     "output_type": "execute_result"
    }
   ],
   "source": [
    "df_new.sort_values(by=['CHNG IN OI.1'],ascending = False).head(3)"
   ]
  },
  {
   "cell_type": "code",
   "execution_count": null,
   "metadata": {},
   "outputs": [],
   "source": []
  }
 ],
 "metadata": {
  "kernelspec": {
   "display_name": "Python 3",
   "language": "python",
   "name": "python3"
  },
  "language_info": {
   "codemirror_mode": {
    "name": "ipython",
    "version": 3
   },
   "file_extension": ".py",
   "mimetype": "text/x-python",
   "name": "python",
   "nbconvert_exporter": "python",
   "pygments_lexer": "ipython3",
   "version": "3.8.2"
  }
 },
 "nbformat": 4,
 "nbformat_minor": 4
}
